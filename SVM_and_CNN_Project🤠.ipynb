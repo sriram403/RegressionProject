{
  "nbformat": 4,
  "nbformat_minor": 0,
  "metadata": {
    "colab": {
      "provenance": [],
      "collapsed_sections": [],
      "authorship_tag": "ABX9TyM6C9ZfM7MZtmnB5VuxQW/5",
      "include_colab_link": true
    },
    "kernelspec": {
      "name": "python3",
      "display_name": "Python 3"
    },
    "language_info": {
      "name": "python"
    }
  },
  "cells": [
    {
      "cell_type": "markdown",
      "metadata": {
        "id": "view-in-github",
        "colab_type": "text"
      },
      "source": [
        "<a href=\"https://colab.research.google.com/github/sriram403/RegressionProject/blob/main/SVM_and_CNN_Project%F0%9F%A4%A0.ipynb\" target=\"_parent\"><img src=\"https://colab.research.google.com/assets/colab-badge.svg\" alt=\"Open In Colab\"/></a>"
      ]
    },
    {
      "cell_type": "code",
      "execution_count": 1,
      "metadata": {
        "id": "4iyMceQjCDhp"
      },
      "outputs": [],
      "source": [
        "import matplotlib.pyplot as plt\n",
        "import cv2\n",
        "import numpy as np\n",
        "import pandas as pd\n",
        "from sklearn.model_selection import train_test_split "
      ]
    },
    {
      "cell_type": "code",
      "source": [
        "train_x,test_x,train_y,test_y = train_test_split(X,y,test_size=0.2)\n",
        "train_x = np.reshape(train_x.values,(train_x.shape[0],28,28))\n",
        "test_x = np.reshape(test_x.values,(test_x.shape[0],28,28))\n",
        "print(\"Train data shape: \",train_x.shape)\n",
        "print(\"Test_data_shape:\",test_x.shape)"
      ],
      "metadata": {
        "id": "G3YbIFQUCXGq"
      },
      "execution_count": null,
      "outputs": []
    },
    {
      "cell_type": "code",
      "source": [
        "word_dict = {0:\"A\",1:\"B\",2:\"C\",3:\"D\",4:\"E\",5:\"F\",6:\"G\",7:\"H\",8:\"I\",9:\"J\",10:\"K\",11:\"L\",12:\"M\",13:\"N\",14:\"O\",15:\"P\",16:\"Q\",17:\"R\",18:\"S\",19:\"T\",20:\"U\",21:\"V\",22:\"W\",23:\"X\",24:\"Y\",25:\"Z\"}"
      ],
      "metadata": {
        "id": "lobM1RWTG6yY"
      },
      "execution_count": null,
      "outputs": []
    },
    {
      "cell_type": "code",
      "source": [
        "y_int = np.int0(y)\n",
        "count = np.zeros(26,dtype='int')\n",
        "for i in y_int:\n",
        "  count[i] +=1\n",
        "alphabets = []\n",
        "for i in word_dict.values():\n",
        "  alphabets.append(i)\n",
        "\n",
        "fig,ax = plt.subplots(1,1,figsize=(10,10))\n",
        "ax.barh(alphabets,count)\n",
        "\n",
        "plt.xlabel(\"Number of elements\")\n",
        "plt.ylabel(\"Alphabets\")\n",
        "plt.grid()\n",
        "plt.show()"
      ],
      "metadata": {
        "id": "PhSCsfC8E2aH"
      },
      "execution_count": null,
      "outputs": []
    },
    {
      "cell_type": "code",
      "source": [
        "shuff = shuffle(train_x[:100])\n",
        "fig,ax = plt.subplots(3,3,figsize=(10,10))\n",
        "axes = ax.flatten()\n",
        "\n",
        "for i in range(9):\n",
        "  _,shu = cv2.threshold(shuff[i],30,200,cv2.THRESH_BINARY)\n",
        "  axes[i].imshow(np.reshape(shuff[i],(28,28)),cmap=\"Greys\")\n",
        "plt.show()\n",
        "\n",
        "_,axes = plt.subplots(nrows=1,ncols=4,figsize=(10,3))\n",
        "for ax,images,label in zip(axes,digits.images,digits.target):\n",
        "  ax.set_axis_off()\n",
        "  ax.imshow(image,cmap=plt.cm.gray_r,interpolation=\"nearest\")\n",
        "  ax.set_title(\"Training: %i\" % label)\n",
        "\n",
        "print(data.head(10))"
      ],
      "metadata": {
        "id": "bZHjAv41IMW3"
      },
      "execution_count": null,
      "outputs": []
    },
    {
      "cell_type": "code",
      "source": [
        "train_x = train_x.reshape(train_x.shape[0],train_x.shape[1],train_x.shape[2],1)\n",
        "print(f\"New shape of the train_Data:{train_x.shape}\")\n",
        "\n",
        "test_x = test_x.reshape(test_x.shape[0],test_x.shape[1],test_x.shape[2],1)\n",
        "print(f\"New shape of the test_Data:{test_x.shape}\")"
      ],
      "metadata": {
        "id": "g0IgzqPiJWsm"
      },
      "execution_count": null,
      "outputs": []
    },
    {
      "cell_type": "code",
      "source": [
        "train_yOHE = to_categorical(train_y,num_classes=26,dtype='int')\n",
        "print(f\"New shape of the train_labels:{train_yOHE.shape}\")\n",
        "test_yOHE = to_categorical(test_y,num_classes=26,dtype='int')\n",
        "print(f\"New shape of the test_labels:{test_yOHE.shape}\")"
      ],
      "metadata": {
        "id": "MwnSD5RyJzi1"
      },
      "execution_count": null,
      "outputs": []
    },
    {
      "cell_type": "code",
      "source": [
        "from model_utils.net import *\n",
        "from sklearn.metrics import accuracy_score\n",
        "from sklearn.naive_bayes import GaussianNB\n",
        "test_sample = 4.053\n",
        "random_state =0.7\n",
        "X,y = load_reshaped_data()\n",
        "ac=[]"
      ],
      "metadata": {
        "id": "LKsed2jjKM4d"
      },
      "execution_count": null,
      "outputs": []
    },
    {
      "cell_type": "code",
      "source": [
        "n_samples = len(digits.images)\n",
        "data = digits.images.reshape((n_samples,-1))\n",
        "\n",
        "clf = svm.SVC(gamma =0.001)\n",
        "\n",
        "x_train,x_test,y_train,y_test = train_test_split(data,digits.target,test_size=0.5,shuffle=False)\n",
        "\n",
        "clf.fit(x_train,y_train)\n",
        "\n",
        "predicted = clf.predict(x_test)\n",
        "ac.append(model_accuracy(test_sample,random_state)*100)"
      ],
      "metadata": {
        "id": "MVbkW5EpKlOE"
      },
      "execution_count": null,
      "outputs": []
    },
    {
      "cell_type": "code",
      "source": [
        "model = Sequential()\n",
        "x_train,x_test,y_train,y_test = train_test_split(X,y,test_size=0.5,shuffle=False)\n",
        "x_train.shape,y_train.shape\n",
        "\n",
        "test_sample = 2.054\n",
        "model.add(Conv2D(filters=32,kernel_size=(3,3),activation=\"relu\",input_shape=(28,28,1)))\n",
        "model.add(MaxPool2D(pool_size=(2,2),strides=2))\n",
        "\n",
        "model.add(Conv2D(filters=32,kernel_size=(3,3),activation=\"relu\",padding=\"same\"))\n",
        "model.add(MaxPool2D(pool_size=(2,2),strides=2))\n",
        "\n",
        "model.add(Conv2D(filters=32,kernel_size=(3,3),activation=\"relu\",padding=\"valid\"))\n",
        "model.add(MaxPool2D(pool_size=(2,2),strides=2))\n",
        "\n",
        "model.add(Flatten())\n",
        "\n",
        "model.add(Dense(64,activation=\"relu\"))\n",
        "model.add(Dense(128,activation=\"relu\"))\n",
        "\n",
        "model.add(Dense(26,activation=\"softmax\"))"
      ],
      "metadata": {
        "id": "PNGEqqblLLxt"
      },
      "execution_count": null,
      "outputs": []
    },
    {
      "cell_type": "code",
      "source": [
        "model.compile(optimizer=\"rmsprop\",loss=\"categorical_crossentropy\",metrics=\"accuracy\")"
      ],
      "metadata": {
        "id": "cumiIi9DMVJM"
      },
      "execution_count": null,
      "outputs": []
    },
    {
      "cell_type": "code",
      "source": [
        "ac.append(model_accuracy(test_sample,random_state)*100)"
      ],
      "metadata": {
        "id": "SpSBGqECMeIU"
      },
      "execution_count": null,
      "outputs": []
    },
    {
      "cell_type": "code",
      "source": [
        "model.summary()\n",
        "# model.save(\"model_hand.h5\")"
      ],
      "metadata": {
        "id": "nTbCC5xlMjBE"
      },
      "execution_count": null,
      "outputs": []
    },
    {
      "cell_type": "code",
      "source": [
        "fig,axes = plt.subplots(3,3,figsize=(8,9))\n",
        "axes = axes.flatten()\n",
        "\n",
        "for i,ax in enumerate(axes):\n",
        "  img = np.reshape(test_X[5],(28,28))\n",
        "  ax.imshow(img,cmap=\"Greys\")\n",
        "\n",
        "  pred = word_dict[np.argmax(test_yOHE[i])]\n",
        "  ax.set_title(\"prediction:\"+pred)\n",
        "  ax.grid()"
      ],
      "metadata": {
        "id": "qANcH1DGMplk"
      },
      "execution_count": null,
      "outputs": []
    },
    {
      "cell_type": "code",
      "source": [
        "x_train,x_test,y_train,y_test = train_test_split(data,digits.target,test_size=0.5,shuffle=False)\n",
        "\n",
        "_,axes = plt.subplots(nrows=1,ncols=4,figsize=(10,3))\n",
        "for ax,image,label in zip(axes,digits.images,digits.target):\n",
        "  ax.set_axis_off()\n",
        "  ax.imshow(image,cmap=plt.cm.gray_r,interpolation=\"nearest\")\n",
        "  ax.set_title(\"Training:%i\"%label)\n",
        "\n",
        "_,axes = plt.subplots(nrows=1,ncols=4,figsize=(10,3))\n",
        "for ax,image,label in zip(axes,X_test,predicted):\n",
        "  ax.set_axis_off()\n",
        "  image = image.reshape(8,8)\n",
        "  ax.imshow(image,cmap=plt.cm.gray_r,interpolation=\"nearest\")\n",
        "  ax.set_title(f\"Training:{prediction}\")\n"
      ],
      "metadata": {
        "id": "sYjr_qhXNYls"
      },
      "execution_count": null,
      "outputs": []
    },
    {
      "cell_type": "code",
      "source": [
        "import cv2\n",
        "import matplotlib.pyplot as plt\n",
        "import numpy as np \n",
        "import pandas as pd \n",
        "import tensorflow as tf\n",
        "from tensorflow.keras.models import Sequential\n",
        "from tensorflow.keras.layers import Dense,Flatten,Conv2D,MaxPool2D,Dropout\n",
        "from tensorflow.keras.optimizers import SGD,Adam\n",
        "from tensorflow.keras.callbacks import ReduceLROnPlateau,EarlyStopping\n",
        "from tensorflow.keras.utils import to_categorical\n",
        "from sklearn.model_selection import train_test_split \n",
        "img = cv2.imread(r\"b.jpg\")\n",
        "img_copy = img.copy()\n",
        "\n",
        "img = cv2.cvtColor(img,cv2.COLOR_BGR2RGB)\n",
        "img = cv2.resize(img,(400,400))"
      ],
      "metadata": {
        "id": "9qpAEs9rOVck"
      },
      "execution_count": 4,
      "outputs": []
    },
    {
      "cell_type": "code",
      "source": [
        "img_copy  = cv2.GaussianBlur(img_copy,(7,7),0)\n",
        "img_gray = cv2.cvtColor(img_copy,cv2.COLOR_BGR2GRAY)\n",
        "_,img_thresh = cv2.threshold(img_gray,100,255,cv2.THRESH_BINARY_INVY)\n",
        "\n",
        "img_final = cv2.resize(img_thresh,(28,28))\n",
        "img_final = np.reshape(img_final,(1,28,28,1))\n"
      ],
      "metadata": {
        "id": "aKjQSxqROhl8"
      },
      "execution_count": null,
      "outputs": []
    },
    {
      "cell_type": "code",
      "source": [
        "img_pred = word_dict[np.argmax(model.predict(img_final))]"
      ],
      "metadata": {
        "id": "C7JD3ja2QHTq"
      },
      "execution_count": null,
      "outputs": []
    },
    {
      "cell_type": "code",
      "source": [
        "from model_utils import *\n",
        "from tensorflow.keras.models import load_model\n",
        "model = load_model('model_hand.h5')\n",
        "detect_text('5.jpeg')"
      ],
      "metadata": {
        "id": "AnKEnNYRQOOa"
      },
      "execution_count": null,
      "outputs": []
    },
    {
      "cell_type": "code",
      "source": [
        "print(ac)"
      ],
      "metadata": {
        "id": "nT2OS39RQdlq"
      },
      "execution_count": null,
      "outputs": []
    },
    {
      "cell_type": "code",
      "source": [
        "import seaborn as sns\n",
        "from sklearn.linear_model import LinearRegression\n",
        "plt.style.use(\"ggplot\")\n",
        "\n",
        "x = [\"SVM\",\"CNN\"]\n",
        "\n",
        "ax = sns.barplot(x,ac)\n",
        "ax.set_title('Accuracy comparison')\n",
        "ax.set_ylabel(\"Accuracy\")\n",
        "# ax.yaxis_set_major_locator(ticker.LinearLocator())\n",
        "low = min(ac)\n",
        "high = max(ac)\n",
        "ax.set_ylim(80,100)"
      ],
      "metadata": {
        "id": "D6B-LtM9QgJ6"
      },
      "execution_count": null,
      "outputs": []
    }
  ]
}